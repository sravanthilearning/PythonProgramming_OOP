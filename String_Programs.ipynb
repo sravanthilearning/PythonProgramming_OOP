{
  "nbformat": 4,
  "nbformat_minor": 0,
  "metadata": {
    "colab": {
      "name": "String_Programs.ipynb",
      "provenance": [],
      "collapsed_sections": [],
      "authorship_tag": "ABX9TyMEVcaOU+WtvcgUIViVPCfi",
      "include_colab_link": true
    },
    "kernelspec": {
      "name": "python3",
      "display_name": "Python 3"
    }
  },
  "cells": [
    {
      "cell_type": "markdown",
      "metadata": {
        "id": "view-in-github",
        "colab_type": "text"
      },
      "source": [
        "<a href=\"https://colab.research.google.com/github/sravanthilearning/PythonProgramming_OOP/blob/master/String_Programs.ipynb\" target=\"_parent\"><img src=\"https://colab.research.google.com/assets/colab-badge.svg\" alt=\"Open In Colab\"/></a>"
      ]
    },
    {
      "cell_type": "code",
      "metadata": {
        "id": "kV1TLh_80yTK",
        "colab_type": "code",
        "colab": {
          "base_uri": "https://localhost:8080/",
          "height": 69
        },
        "outputId": "772e827c-1655-4b85-c03e-0f1c6e1ca5d8"
      },
      "source": [
        "#Reverse a string\n",
        "name = input(\"Enter your name\")\n",
        "r=reversed(name)\n",
        "print(r)\n",
        "output=''.join(r)\n",
        "print(output)\n"
      ],
      "execution_count": 5,
      "outputs": [
        {
          "output_type": "stream",
          "text": [
            "Enter your namesrav\n",
            "<reversed object at 0x7f26e7409a58>\n",
            "vars\n"
          ],
          "name": "stdout"
        }
      ]
    },
    {
      "cell_type": "code",
      "metadata": {
        "id": "9_-5tT4-3Hub",
        "colab_type": "code",
        "colab": {
          "base_uri": "https://localhost:8080/",
          "height": 87
        },
        "outputId": "cf8996b1-a23f-46b7-ec7f-4c0c45f74ddc"
      },
      "source": [
        "s=input(\"Enter a string\")\n",
        "r=reversed(s)\n",
        "for ch in r:\n",
        "  print(r)"
      ],
      "execution_count": 7,
      "outputs": [
        {
          "output_type": "stream",
          "text": [
            "Enter a stringdfg\n",
            "<reversed object at 0x7f26e73ce278>\n",
            "<reversed object at 0x7f26e73ce278>\n",
            "<reversed object at 0x7f26e73ce278>\n"
          ],
          "name": "stdout"
        }
      ]
    },
    {
      "cell_type": "code",
      "metadata": {
        "id": "1OMv7P4j3y5A",
        "colab_type": "code",
        "colab": {
          "base_uri": "https://localhost:8080/",
          "height": 52
        },
        "outputId": "5ace065c-9484-4009-ec3c-e2aaf1356e24"
      },
      "source": [
        "s=input(\"Enter a string\")\n",
        "print(list(reversed(\"hello\")))"
      ],
      "execution_count": 9,
      "outputs": [
        {
          "output_type": "stream",
          "text": [
            "Enter a stringhcu\n",
            "['o', 'l', 'l', 'e', 'h']\n"
          ],
          "name": "stdout"
        }
      ]
    },
    {
      "cell_type": "code",
      "metadata": {
        "id": "ml8aeezS-uyw",
        "colab_type": "code",
        "colab": {
          "base_uri": "https://localhost:8080/",
          "height": 35
        },
        "outputId": "1f54df78-f43c-42a0-a516-6752008c899f"
      },
      "source": [
        "s=\"aaru\"\n",
        "output=''\n",
        "i=len(s)-1\n",
        "while i>=0:\n",
        "  output=output+s[i]\n",
        "  i=i-1\n",
        "print(output)\n",
        "\n",
        "\n",
        "\n"
      ],
      "execution_count": 20,
      "outputs": [
        {
          "output_type": "stream",
          "text": [
            "uraa\n"
          ],
          "name": "stdout"
        }
      ]
    },
    {
      "cell_type": "code",
      "metadata": {
        "id": "1Jy4sFekSWgG",
        "colab_type": "code",
        "colab": {
          "base_uri": "https://localhost:8080/",
          "height": 35
        },
        "outputId": "866f3904-41a5-4388-b573-fb2c5f8e30e9"
      },
      "source": [
        "print(len(\"I'm learning Python\"))"
      ],
      "execution_count": 1,
      "outputs": [
        {
          "output_type": "stream",
          "text": [
            "19\n"
          ],
          "name": "stdout"
        }
      ]
    },
    {
      "cell_type": "code",
      "metadata": {
        "id": "d3NsxEd9SvFO",
        "colab_type": "code",
        "colab": {
          "base_uri": "https://localhost:8080/",
          "height": 69
        },
        "outputId": "3b0b7ae8-b6cd-448f-97cf-1777c81154f4"
      },
      "source": [
        "print(\"a\\nb\\nc\")"
      ],
      "execution_count": 10,
      "outputs": [
        {
          "output_type": "stream",
          "text": [
            "a\n",
            "b\n",
            "c\n"
          ],
          "name": "stdout"
        }
      ]
    },
    {
      "cell_type": "code",
      "metadata": {
        "id": "jGlTb2F-Xk1s",
        "colab_type": "code",
        "colab": {
          "base_uri": "https://localhost:8080/",
          "height": 69
        },
        "outputId": "5a9f1034-dbf4-42a4-c341-f16f6985e91c"
      },
      "source": [
        "name=input(\"Enter the string to reverse:\")\n",
        "output=''\n",
        "i=len(name)-1\n",
        "print(i)\n",
        "while i>=0:\n",
        "  output=output+name[i]\n",
        "  i=i-1\n",
        "print(output)"
      ],
      "execution_count": 6,
      "outputs": [
        {
          "output_type": "stream",
          "text": [
            "Enter the string to reverse:Durga\n",
            "4\n",
            "agruD\n"
          ],
          "name": "stdout"
        }
      ]
    },
    {
      "cell_type": "markdown",
      "metadata": {
        "id": "1GaYV0hW-zz-",
        "colab_type": "text"
      },
      "source": [
        "Program to reverse the order of words\n",
        "\n",
        "input: \"Learning Python is very easy\"\n",
        "output: easy very is Python Learning\n"
      ]
    },
    {
      "cell_type": "code",
      "metadata": {
        "id": "SyCKeBgV-x8x",
        "colab_type": "code",
        "colab": {
          "base_uri": "https://localhost:8080/",
          "height": 52
        },
        "outputId": "2595c2b1-5a49-42c6-9349-5c12c0697d87"
      },
      "source": [
        "s=\"Learning Python is very easy\"\n",
        "sp=s.split()\n",
        "print(sp)\n",
        "rev=reversed(sp)\n",
        "print(list(rev))"
      ],
      "execution_count": 11,
      "outputs": [
        {
          "output_type": "stream",
          "text": [
            "['Learning', 'Python', 'is', 'very', 'easy']\n",
            "['easy', 'very', 'is', 'Python', 'Learning']\n"
          ],
          "name": "stdout"
        }
      ]
    },
    {
      "cell_type": "code",
      "metadata": {
        "id": "X5AE2RMjHErs",
        "colab_type": "code",
        "colab": {
          "base_uri": "https://localhost:8080/",
          "height": 52
        },
        "outputId": "daefce5b-d860-4750-a0ed-091ea5d1d89b"
      },
      "source": [
        "s=\"Learning Python is very easy\"\n",
        "sp=s.split()\n",
        "print(sp)\n",
        "rev=sp[::-1]\n",
        "output=' '.join(rev)\n",
        "print(output)"
      ],
      "execution_count": 3,
      "outputs": [
        {
          "output_type": "stream",
          "text": [
            "['Learning', 'Python', 'is', 'very', 'easy']\n",
            "easy very is Python Learning\n"
          ],
          "name": "stdout"
        }
      ]
    },
    {
      "cell_type": "markdown",
      "metadata": {
        "id": "x0I5NedmRHOd",
        "colab_type": "text"
      },
      "source": [
        "5. Program to reverse each word in a string \n",
        "Input: Learning Python is very easy\"\n",
        "Output: gninraeL nohtyP si..."
      ]
    },
    {
      "cell_type": "code",
      "metadata": {
        "id": "lBSQBZBMRDRI",
        "colab_type": "code",
        "colab": {
          "base_uri": "https://localhost:8080/",
          "height": 52
        },
        "outputId": "f79c5986-b21b-474b-c0d0-b46aa33fbcc0"
      },
      "source": [
        "s=\"Learning Python is very easy\"\n",
        "sp=s.split()\n",
        "print(sp)\n",
        "sp1=[]\n",
        "for word in sp:\n",
        "  sp1.append(word[::-1])\n",
        "print(sp1)"
      ],
      "execution_count": 2,
      "outputs": [
        {
          "output_type": "stream",
          "text": [
            "['Learning', 'Python', 'is', 'very', 'easy']\n",
            "['gninraeL', 'nohtyP', 'si', 'yrev', 'ysae']\n"
          ],
          "name": "stdout"
        }
      ]
    },
    {
      "cell_type": "markdown",
      "metadata": {
        "id": "ONvTjC_5PQNO",
        "colab_type": "text"
      },
      "source": [
        "6. Program to print characters at even and odd index\n",
        "\n",
        "input: SravanthiAaradhya\n",
        "output: "
      ]
    },
    {
      "cell_type": "code",
      "metadata": {
        "id": "ByMiIyjTPP7a",
        "colab_type": "code",
        "colab": {
          "base_uri": "https://localhost:8080/",
          "height": 52
        },
        "outputId": "fb5ce55a-ebd3-4b15-e94d-433500bf2d58"
      },
      "source": [
        "s=input(\"Enter the string: \")\n",
        "even1 =s[0::2]\n",
        "odd1 = s[1::2]\n",
        "print(\"Even characters are:\", even1, \"Odd characters are: \",odd1)"
      ],
      "execution_count": 6,
      "outputs": [
        {
          "output_type": "stream",
          "text": [
            "Enter the string:  ABCDEFGHIJKLMNOPQRS\n",
            "Even characters are:  BDFHJLNPR Odd characters are:  ACEGIKMOQS\n"
          ],
          "name": "stdout"
        }
      ]
    },
    {
      "cell_type": "code",
      "metadata": {
        "id": "LJN20ONAHnZa",
        "colab_type": "code",
        "colab": {
          "base_uri": "https://localhost:8080/",
          "height": 416
        },
        "outputId": "6284e41c-0829-4b13-d2bd-1c062cbd4479"
      },
      "source": [
        "s=input(\"Enter the string :\")\n",
        "i=0\n",
        "print(\"Even characters:\")\n",
        "while i<len(s):\n",
        "  print(s[i])\n",
        "  i=i+2\n",
        "print(\"Odd characters:\")\n",
        "i=1\n",
        "while i<len(s):\n",
        "  print(s[i])\n",
        "  i=i+2"
      ],
      "execution_count": 4,
      "outputs": [
        {
          "output_type": "stream",
          "text": [
            "Enter the string : ABCDEFGHIJKLMNOPQRS\n",
            "Even characters:\n",
            " \n",
            "B\n",
            "D\n",
            "F\n",
            "H\n",
            "J\n",
            "L\n",
            "N\n",
            "P\n",
            "R\n",
            "Odd characters:\n",
            "A\n",
            "C\n",
            "E\n",
            "G\n",
            "I\n",
            "K\n",
            "M\n",
            "O\n",
            "Q\n",
            "S\n"
          ],
          "name": "stdout"
        }
      ]
    },
    {
      "cell_type": "markdown",
      "metadata": {
        "id": "Oku0Ctv3NDaV",
        "colab_type": "text"
      },
      "source": [
        "Program to reverse every second word in a string\n",
        "Input: One Two Three Four Five Six\n",
        "Output: One owT Three ruoF Five xiS"
      ]
    },
    {
      "cell_type": "code",
      "metadata": {
        "id": "x1OZPhtINCR6",
        "colab_type": "code",
        "colab": {}
      },
      "source": [
        "s=input(\"Enter a string: \")\n"
      ],
      "execution_count": 0,
      "outputs": []
    }
  ]
}